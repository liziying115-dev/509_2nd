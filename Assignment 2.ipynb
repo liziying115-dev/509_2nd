{
 "cells": [
  {
   "cell_type": "markdown",
   "id": "c843ea9a-fd1d-4b70-9267-862f81ae9f82",
   "metadata": {},
   "source": [
    "# Type your name: Lisa Li"
   ]
  },
  {
   "cell_type": "markdown",
   "id": "23486c80",
   "metadata": {},
   "source": [
    "# Problem 1: XOR-based Encryption (5 points)\n",
    "In this problem, we will explore how to use Python to implement a simple XOR-based encryption with binary strings. This problem should provide you some conceptual understanding of message encryption.\n",
    "\n",
    "Hint: You can use `^` to implement bitwise XOR when applied to integers. Please test the following code snippet for `^` operator:\n",
    "\n",
    "```py\n",
    "# Example of XOR in Python\n",
    "a = 0\n",
    "b = 1\n",
    "result = a ^ b   # result will be 1\n",
    "```"
   ]
  },
  {
   "cell_type": "code",
   "execution_count": null,
   "id": "167a0b06-2333-45e0-a2ee-b2210886b966",
   "metadata": {},
   "outputs": [
    {
     "name": "stdout",
     "output_type": "stream",
     "text": [
      "The first digits of original messsage and secrete key are 0 and 1, respectively.\n",
      "The first digit of encrypted messsage is 1.\n"
     ]
    }
   ],
   "source": [
    "original_message = \"010\"\n",
    "secret_key = \"110\"\n",
    "\n",
    "# Extract the first digits of original message and secret key using appropriate indices. Convert them to integer type.\n",
    "first_digit_orig_msg = int(original_message[0])\n",
    "first_digit_secret_key = int(secret_key[0])\n",
    "\n",
    "# Encrypt the first digit using XOR operation. Convert it to string type.\n",
    "first_digit_encrypt_msg = str(first_digit_orig_msg ^ first_digit_secret_key)\n",
    "\n",
    "# Complete the print using appropriate formatting\n",
    "formatted_input = f\"The first digits of original messsage and secrete key are {first_digit_orig_msg} and {first_digit_secret_key}, respectively.\"\n",
    "print(formatted_input)\n",
    "formatted_output = f\"The first digit of encrypted messsage is {first_digit_encrypt_msg}.\"\n",
    "print(formatted_output)"
   ]
  },
  {
   "cell_type": "code",
   "execution_count": 12,
   "id": "5a7a94ef-6304-447d-b024-76739aabc5f2",
   "metadata": {},
   "outputs": [
    {
     "name": "stdout",
     "output_type": "stream",
     "text": [
      "The second digits of original messsage and secrete key are 1 and 1, respectively.\n",
      "The second digit of encrypted messsage is 0.\n",
      "The third digits of original messsage and secrete key are 0 and 0, respectively.\n",
      "The third digit of encrypted messsage is 0.\n"
     ]
    }
   ],
   "source": [
    "# Complete the encryption of the rest two digits\n",
    "\n",
    "# extract the second digit using appropriate indices. Convert it to integer type\n",
    "second_digit_orig_msg = int(original_message[1])\n",
    "second_digit_secret_key = int(secret_key[1])\n",
    "\n",
    "# encrypt the first digit using XOR operation. Convert it to integer type.\n",
    "second_digit_encrypt_msg = int(second_digit_orig_msg ^ second_digit_secret_key)\n",
    "\n",
    "# complete the print using appropriate formatting\n",
    "formatted_input = f\"The second digits of original messsage and secrete key are {second_digit_orig_msg} and {second_digit_secret_key}, respectively.\"\n",
    "print(formatted_input)\n",
    "formatted_output = f\"The second digit of encrypted messsage is {second_digit_encrypt_msg}.\"\n",
    "print(formatted_output)\n",
    "\n",
    "# extract the second digit using appropriate indices. Convert it to integer type\n",
    "third_digit_orig_msg = int(original_message[2])\n",
    "third_digit_secret_key = int(secret_key[2])\n",
    "\n",
    "# encrypt the first digit using XOR operation. Convert it to integer type.\n",
    "third_digit_encrypt_msg = int(third_digit_orig_msg ^ third_digit_secret_key)\n",
    "\n",
    "# complete the print using appropriate formatting\n",
    "formatted_input = f\"The third digits of original messsage and secrete key are {third_digit_orig_msg} and {third_digit_secret_key}, respectively.\"\n",
    "print(formatted_input)\n",
    "formatted_output = f\"The third digit of encrypted messsage is {third_digit_encrypt_msg}.\"\n",
    "print(formatted_output)"
   ]
  },
  {
   "cell_type": "code",
   "execution_count": 13,
   "id": "5ea3a4d0-96e7-4e17-8d26-ceddd43090f3",
   "metadata": {},
   "outputs": [
    {
     "name": "stdout",
     "output_type": "stream",
     "text": [
      "The encrypted message is 100.\n"
     ]
    }
   ],
   "source": [
    "# Convert each digit of encrypted message to a string, and concatenate them together into one string. \n",
    "# Print out the encrypted message using formatting\n",
    "encrypted_msg = str(first_digit_encrypt_msg) + str(second_digit_encrypt_msg) + str(third_digit_encrypt_msg)\n",
    "print(f\"The encrypted message is {encrypted_msg}.\")"
   ]
  },
  {
   "cell_type": "markdown",
   "id": "d45d5524-f4b3-4b71-949c-c3962ddb559d",
   "metadata": {},
   "source": [
    "### Message Decryption\n",
    "\n",
    "We also need to decrypt the message to recover the original message from the sender. The decryption process works as follows:\n",
    "\n",
    "- The encrypted message and secret key go through a logical gate digit-wise. The logical gate outputs the decrypted message.\n",
    "- Our decryption uses the same secret key as encryption, and XOR gate.\n",
    "\n",
    "Based on what you have done, write a program to decrypt the message. Clearly print out your decrypted message with appropirate description."
   ]
  },
  {
   "cell_type": "code",
   "execution_count": 14,
   "id": "c0d2cb11-ab10-49f9-b7e0-1dff43713253",
   "metadata": {},
   "outputs": [
    {
     "name": "stdout",
     "output_type": "stream",
     "text": [
      "The decrypted message is 010.\n"
     ]
    }
   ],
   "source": [
    "# Complete your code here. \n",
    "\n",
    "decrypted_msg = str(int(encrypted_msg[0]) ^ int(secret_key[0])) + str(int(encrypted_msg[1]) ^ int(secret_key[1])) + str(int(encrypted_msg[2]) ^ int(secret_key[2]))\n",
    "print(f\"The decrypted message is {decrypted_msg}.\")"
   ]
  },
  {
   "cell_type": "markdown",
   "id": "44b91bfa-f45d-4691-b977-5ba5f919bb8e",
   "metadata": {},
   "source": [
    "### Problem Analysis\n",
    "\n",
    "- Is the encrypted message the same as the original message?  \n",
    "  \n",
    "  It not always the same as it depends on the secrect key.\n",
    "\n",
    "- Can you briefly describe the functionality of xor gate? What will happen when the inputs are same (or different)?  \n",
    "  \n",
    "  The XOR gate outputs 1 if the two inputs are different, and 0 if they are the same.\n",
    "\n",
    "- Do you think if the adversary can know the original message without knowing the secret key?  \n",
    "  \n",
    "  No, the adversary cannot know the original message without the secret key because the XOR operation is non-reversible without knowing one of the inputs. The encrypted data itself cannot provide information about the original message without the key.\n",
    "\n",
    "- Can the message receiver recover the original message if the secret key is given?  \n",
    "  \n",
    "  Yes. XOR encryption is symmetric, which means the same operation is used for both encryption and decryption.\n",
    "\n"
   ]
  },
  {
   "cell_type": "markdown",
   "id": "0f0ffc1d",
   "metadata": {},
   "source": [
    "# Problem 2: Message Encryption with RSA (5 points)\n",
    "\n",
    "A sender wants to send a message securely over an unreliable communication channel to a receiver. To do this, we use **RSA**, a widely used encryption method.  \n",
    "\n",
    "RSA works by converting a message into a number and scrambling it with a **public key**, so that only someone with the **secret key** can unscramble it.\n",
    "\n",
    "\n",
    "### RSA Algorithm Steps\n",
    "\n",
    "1. **Receiver chooses two large prime numbers** $p$ and $q$.  \n",
    "   Keep them secret.  \n",
    "\n",
    "2. **Receiver computes**  \n",
    "   - $n = p \\times q$  \n",
    "   - $φ(n) = (p − 1)(q − 1)$\n",
    "\n",
    "3. **Receiver picks an encryption exponent $e$** such that:  \n",
    "   - $1 < e < φ(n)$ \n",
    "   - $gcd(e, φ(n)) = 1$ (i.e., no common factors except 1).  \n",
    "\n",
    "4. **Public key:** $(e, n)$ known to both sender and receiver. The public key is shared openly so anyone (including sender) can use it to encrypt a message.\n",
    "\n",
    "5. **Sender encrypts message:**  \n",
    "   If the original message is $M$, then $C = (M^e) \\% n$, where `%` means the modulo operator in Python. The result $C$ is called the ciphertext — it looks like random numbers, and is what gets transmitted securely.  \n",
    "\n",
    "6. **Receiver computes the secret key $d$**, which satisfies $(d \\times e) \\% φ(n) = 1$. The private key (sometimes called the secret key) is kept hidden and is used by the receiver to decrypt messages.\n",
    "\n",
    "7. **Receiver decrypts message:**  $M = (C^d) \\% n$. The result is the decrypted message, which should be identical to the original M.\n",
    "\n",
    "\n",
    "Consider $M=65$, $p=61$, $q=53$. Choose $e=17$. Write a Python program to:  \n",
    "- Compute the public key `(e, n)`  \n",
    "- Find the secret key `d`  \n",
    "- Encrypt the message into ciphertext `C`  \n",
    "- Decrypt it back  \n",
    "- Verify that the decrypted message matches the original "
   ]
  },
  {
   "cell_type": "code",
   "execution_count": 37,
   "id": "c5e0153e",
   "metadata": {},
   "outputs": [
    {
     "name": "stdout",
     "output_type": "stream",
     "text": [
      "Public Key is: 3233, 17\n",
      "Secret Key is: 2753\n",
      "Ciphertext is: 2790\n",
      "Decrypted Message is: 65\n",
      "The decrypted message is the same as the original message.\n"
     ]
    }
   ],
   "source": [
    "#Compute the public key `(e, n)`\n",
    "M=65\n",
    "\n",
    "p=61\n",
    "\n",
    "q=53\n",
    "\n",
    "e=17\n",
    "\n",
    "n = p * q\n",
    "\n",
    "print(f\"Public Key is: {n}, {e}\")\n",
    "\n",
    "# Find the secret key `d`\n",
    "phi_n = (p - 1) * (q - 1)\n",
    "d = pow(e, -1, phi_n)\n",
    "print(f\"Secret Key is: {d}\") \n",
    "\n",
    "# Encrypt the message into ciphertext `C`\n",
    "C = pow(M, e, n)\n",
    "print(f\"Ciphertext is: {C}\")\n",
    "\n",
    "# Decrypt it back\n",
    "decrypted_M = pow(C, d, n)\n",
    "print(f\"Decrypted Message is: {decrypted_M}\")\n",
    "\n",
    "#Verify that the decrypted message is the same as the original message\n",
    "if decrypted_M == M:\n",
    "    print(\"The decrypted message is the same as the original message.\")\n"
   ]
  }
 ],
 "metadata": {
  "kernelspec": {
   "display_name": "Python 3",
   "language": "python",
   "name": "python3"
  },
  "language_info": {
   "codemirror_mode": {
    "name": "ipython",
    "version": 3
   },
   "file_extension": ".py",
   "mimetype": "text/x-python",
   "name": "python",
   "nbconvert_exporter": "python",
   "pygments_lexer": "ipython3",
   "version": "3.13.1"
  }
 },
 "nbformat": 4,
 "nbformat_minor": 5
}
